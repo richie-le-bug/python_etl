{
 "cells": [
  {
   "cell_type": "markdown",
   "id": "a7234932-cde5-4396-89a8-7678f86f0c74",
   "metadata": {},
   "source": [
    "# F1 analysis"
   ]
  },
  {
   "cell_type": "code",
   "execution_count": 346,
   "id": "3087fb28-8915-4e3d-b7da-1177238caf2b",
   "metadata": {},
   "outputs": [],
   "source": [
    "import pandas as pd\n",
    "import matplotlib.pyplot as plt\n",
    "import sqlite3"
   ]
  },
  {
   "cell_type": "code",
   "execution_count": 263,
   "id": "8c8c185c-b9b2-4cea-9b11-b8326fdde915",
   "metadata": {},
   "outputs": [],
   "source": [
    "circuits = \"/Users/richardericsson/HI/python_etl/data/circuits.csv\"\n",
    "driver_standings = \"/Users/richardericsson/HI/python_etl/data/driver_standings.csv\"\n",
    "drivers = \"/Users/richardericsson/HI/python_etl/data/drivers.csv\"\n",
    "lap_times = \"/Users/richardericsson/HI/python_etl/data/lap_times.csv\""
   ]
  },
  {
   "cell_type": "code",
   "execution_count": 264,
   "id": "d4493eab-2344-443e-9105-a101ebbd4426",
   "metadata": {},
   "outputs": [],
   "source": [
    "circuit_df = pd.read_csv(circuits)\n",
    "driver_standings_df = pd.read_csv(driver_standings)\n",
    "drivers_df = pd.read_csv(drivers)\n",
    "lap_times_df = pd.read_csv(lap_times)"
   ]
  },
  {
   "cell_type": "markdown",
   "id": "91faca3d-c5dd-48b2-813d-b8728acfa50d",
   "metadata": {},
   "source": [
    "## Data cleaning"
   ]
  },
  {
   "cell_type": "code",
   "execution_count": 339,
   "id": "9c1f5da6-dd87-4030-8239-8f3d96633c01",
   "metadata": {},
   "outputs": [],
   "source": [
    "# circuit_df = circuit_df.drop(columns=[\"url\"])\n",
    "# drivers_df = drivers_df.drop(columns=[\"url\"])"
   ]
  },
  {
   "cell_type": "markdown",
   "id": "2ed7e559-3ca4-4941-801f-29b29dec0675",
   "metadata": {},
   "source": [
    "## q1. top 7 countries with more circuits?"
   ]
  },
  {
   "cell_type": "code",
   "execution_count": 333,
   "id": "d982c286-837e-4bb8-81c7-685bf244f212",
   "metadata": {},
   "outputs": [
    {
     "data": {
      "text/html": [
       "<div>\n",
       "<style scoped>\n",
       "    .dataframe tbody tr th:only-of-type {\n",
       "        vertical-align: middle;\n",
       "    }\n",
       "\n",
       "    .dataframe tbody tr th {\n",
       "        vertical-align: top;\n",
       "    }\n",
       "\n",
       "    .dataframe thead th {\n",
       "        text-align: right;\n",
       "    }\n",
       "</style>\n",
       "<table border=\"1\" class=\"dataframe\">\n",
       "  <thead>\n",
       "    <tr style=\"text-align: right;\">\n",
       "      <th></th>\n",
       "      <th>circuitId</th>\n",
       "      <th>circuitRef</th>\n",
       "      <th>name</th>\n",
       "      <th>location</th>\n",
       "      <th>country</th>\n",
       "      <th>lat</th>\n",
       "      <th>lng</th>\n",
       "      <th>alt</th>\n",
       "    </tr>\n",
       "  </thead>\n",
       "  <tbody>\n",
       "    <tr>\n",
       "      <th>0</th>\n",
       "      <td>1</td>\n",
       "      <td>albert_park</td>\n",
       "      <td>Albert Park Grand Prix Circuit</td>\n",
       "      <td>Melbourne</td>\n",
       "      <td>Australia</td>\n",
       "      <td>-37.84970</td>\n",
       "      <td>144.96800</td>\n",
       "      <td>10</td>\n",
       "    </tr>\n",
       "    <tr>\n",
       "      <th>1</th>\n",
       "      <td>2</td>\n",
       "      <td>sepang</td>\n",
       "      <td>Sepang International Circuit</td>\n",
       "      <td>Kuala Lumpur</td>\n",
       "      <td>Malaysia</td>\n",
       "      <td>2.76083</td>\n",
       "      <td>101.73800</td>\n",
       "      <td>18</td>\n",
       "    </tr>\n",
       "    <tr>\n",
       "      <th>2</th>\n",
       "      <td>3</td>\n",
       "      <td>bahrain</td>\n",
       "      <td>Bahrain International Circuit</td>\n",
       "      <td>Sakhir</td>\n",
       "      <td>Bahrain</td>\n",
       "      <td>26.03250</td>\n",
       "      <td>50.51060</td>\n",
       "      <td>7</td>\n",
       "    </tr>\n",
       "    <tr>\n",
       "      <th>3</th>\n",
       "      <td>4</td>\n",
       "      <td>catalunya</td>\n",
       "      <td>Circuit de Barcelona-Catalunya</td>\n",
       "      <td>Montmeló</td>\n",
       "      <td>Spain</td>\n",
       "      <td>41.57000</td>\n",
       "      <td>2.26111</td>\n",
       "      <td>109</td>\n",
       "    </tr>\n",
       "    <tr>\n",
       "      <th>4</th>\n",
       "      <td>5</td>\n",
       "      <td>istanbul</td>\n",
       "      <td>Istanbul Park</td>\n",
       "      <td>Istanbul</td>\n",
       "      <td>Turkey</td>\n",
       "      <td>40.95170</td>\n",
       "      <td>29.40500</td>\n",
       "      <td>130</td>\n",
       "    </tr>\n",
       "    <tr>\n",
       "      <th>...</th>\n",
       "      <td>...</td>\n",
       "      <td>...</td>\n",
       "      <td>...</td>\n",
       "      <td>...</td>\n",
       "      <td>...</td>\n",
       "      <td>...</td>\n",
       "      <td>...</td>\n",
       "      <td>...</td>\n",
       "    </tr>\n",
       "    <tr>\n",
       "      <th>72</th>\n",
       "      <td>75</td>\n",
       "      <td>portimao</td>\n",
       "      <td>Autódromo Internacional do Algarve</td>\n",
       "      <td>Portimão</td>\n",
       "      <td>Portugal</td>\n",
       "      <td>37.22700</td>\n",
       "      <td>-8.62670</td>\n",
       "      <td>108</td>\n",
       "    </tr>\n",
       "    <tr>\n",
       "      <th>73</th>\n",
       "      <td>76</td>\n",
       "      <td>mugello</td>\n",
       "      <td>Autodromo Internazionale del Mugello</td>\n",
       "      <td>Mugello</td>\n",
       "      <td>Italy</td>\n",
       "      <td>43.99750</td>\n",
       "      <td>11.37190</td>\n",
       "      <td>255</td>\n",
       "    </tr>\n",
       "    <tr>\n",
       "      <th>74</th>\n",
       "      <td>77</td>\n",
       "      <td>jeddah</td>\n",
       "      <td>Jeddah Corniche Circuit</td>\n",
       "      <td>Jeddah</td>\n",
       "      <td>Saudi Arabia</td>\n",
       "      <td>21.63190</td>\n",
       "      <td>39.10440</td>\n",
       "      <td>15</td>\n",
       "    </tr>\n",
       "    <tr>\n",
       "      <th>75</th>\n",
       "      <td>78</td>\n",
       "      <td>losail</td>\n",
       "      <td>Losail International Circuit</td>\n",
       "      <td>Al Daayen</td>\n",
       "      <td>Qatar</td>\n",
       "      <td>25.49000</td>\n",
       "      <td>51.45420</td>\n",
       "      <td>12</td>\n",
       "    </tr>\n",
       "    <tr>\n",
       "      <th>76</th>\n",
       "      <td>79</td>\n",
       "      <td>miami</td>\n",
       "      <td>Miami International Autodrome</td>\n",
       "      <td>Miami</td>\n",
       "      <td>USA</td>\n",
       "      <td>25.95810</td>\n",
       "      <td>-80.23890</td>\n",
       "      <td>0</td>\n",
       "    </tr>\n",
       "  </tbody>\n",
       "</table>\n",
       "<p>77 rows × 8 columns</p>\n",
       "</div>"
      ],
      "text/plain": [
       "    circuitId   circuitRef                                  name  \\\n",
       "0           1  albert_park        Albert Park Grand Prix Circuit   \n",
       "1           2       sepang          Sepang International Circuit   \n",
       "2           3      bahrain         Bahrain International Circuit   \n",
       "3           4    catalunya        Circuit de Barcelona-Catalunya   \n",
       "4           5     istanbul                         Istanbul Park   \n",
       "..        ...          ...                                   ...   \n",
       "72         75     portimao    Autódromo Internacional do Algarve   \n",
       "73         76      mugello  Autodromo Internazionale del Mugello   \n",
       "74         77       jeddah               Jeddah Corniche Circuit   \n",
       "75         78       losail          Losail International Circuit   \n",
       "76         79        miami         Miami International Autodrome   \n",
       "\n",
       "        location       country       lat        lng  alt  \n",
       "0      Melbourne     Australia -37.84970  144.96800   10  \n",
       "1   Kuala Lumpur      Malaysia   2.76083  101.73800   18  \n",
       "2         Sakhir       Bahrain  26.03250   50.51060    7  \n",
       "3       Montmeló         Spain  41.57000    2.26111  109  \n",
       "4       Istanbul        Turkey  40.95170   29.40500  130  \n",
       "..           ...           ...       ...        ...  ...  \n",
       "72      Portimão      Portugal  37.22700   -8.62670  108  \n",
       "73       Mugello         Italy  43.99750   11.37190  255  \n",
       "74        Jeddah  Saudi Arabia  21.63190   39.10440   15  \n",
       "75     Al Daayen         Qatar  25.49000   51.45420   12  \n",
       "76         Miami           USA  25.95810  -80.23890    0  \n",
       "\n",
       "[77 rows x 8 columns]"
      ]
     },
     "execution_count": 333,
     "metadata": {},
     "output_type": "execute_result"
    }
   ],
   "source": [
    "circuit_df"
   ]
  },
  {
   "cell_type": "code",
   "execution_count": 179,
   "id": "afa3595a-81ed-4963-b7b8-ac0b068378a7",
   "metadata": {},
   "outputs": [
    {
     "data": {
      "text/html": [
       "<div>\n",
       "<style scoped>\n",
       "    .dataframe tbody tr th:only-of-type {\n",
       "        vertical-align: middle;\n",
       "    }\n",
       "\n",
       "    .dataframe tbody tr th {\n",
       "        vertical-align: top;\n",
       "    }\n",
       "\n",
       "    .dataframe thead th {\n",
       "        text-align: right;\n",
       "    }\n",
       "</style>\n",
       "<table border=\"1\" class=\"dataframe\">\n",
       "  <thead>\n",
       "    <tr style=\"text-align: right;\">\n",
       "      <th></th>\n",
       "      <th>count</th>\n",
       "    </tr>\n",
       "    <tr>\n",
       "      <th>country</th>\n",
       "      <th></th>\n",
       "    </tr>\n",
       "  </thead>\n",
       "  <tbody>\n",
       "    <tr>\n",
       "      <th>USA</th>\n",
       "      <td>11</td>\n",
       "    </tr>\n",
       "    <tr>\n",
       "      <th>France</th>\n",
       "      <td>7</td>\n",
       "    </tr>\n",
       "    <tr>\n",
       "      <th>Spain</th>\n",
       "      <td>6</td>\n",
       "    </tr>\n",
       "    <tr>\n",
       "      <th>Portugal</th>\n",
       "      <td>4</td>\n",
       "    </tr>\n",
       "    <tr>\n",
       "      <th>UK</th>\n",
       "      <td>4</td>\n",
       "    </tr>\n",
       "    <tr>\n",
       "      <th>Italy</th>\n",
       "      <td>4</td>\n",
       "    </tr>\n",
       "    <tr>\n",
       "      <th>Japan</th>\n",
       "      <td>3</td>\n",
       "    </tr>\n",
       "  </tbody>\n",
       "</table>\n",
       "</div>"
      ],
      "text/plain": [
       "          count\n",
       "country        \n",
       "USA          11\n",
       "France        7\n",
       "Spain         6\n",
       "Portugal      4\n",
       "UK            4\n",
       "Italy         4\n",
       "Japan         3"
      ]
     },
     "execution_count": 179,
     "metadata": {},
     "output_type": "execute_result"
    }
   ],
   "source": [
    "# group by \"country\" and count the number of circuits in each country\n",
    "country_circuit_counts = circuit_df[\"country\"].value_counts()\n",
    "\n",
    "top7_countries = country_circuit_counts.head(7)\n",
    "\n",
    "# setting the result into a dataframe\n",
    "top7_countries_df = pd.DataFrame(top7_countries)\n",
    "\n",
    "top7_countries_df"
   ]
  },
  {
   "cell_type": "code",
   "execution_count": 288,
   "id": "0e1e2297-7940-4fc5-9efd-bb76c8704cfb",
   "metadata": {},
   "outputs": [
    {
     "data": {
      "image/png": "[encoded data removed]",
      "text/plain": [
       "<Figure size 640x480 with 1 Axes>"
      ]
     },
     "metadata": {},
     "output_type": "display_data"
    }
   ],
   "source": [
    "top7_countries_df.plot.bar(legend=False)\n",
    "plt.title(\"Top 7 Countries by Number of Circuits\")\n",
    "plt.xlabel(\"Country\")\n",
    "plt.ylabel(\"Number of Circuits\")\n",
    "plt.show()"
   ]
  },
  {
   "cell_type": "markdown",
   "id": "0176c4c1-1e0f-4c10-b0e0-7b814a5dbe7d",
   "metadata": {},
   "source": [
    "## q2. average rate of winning?"
   ]
  },
  {
   "cell_type": "code",
   "execution_count": 14,
   "id": "e7270ca3-9607-4bc1-86f1-a52530f8cc11",
   "metadata": {},
   "outputs": [
    {
     "data": {
      "text/html": [
       "<div>\n",
       "<style scoped>\n",
       "    .dataframe tbody tr th:only-of-type {\n",
       "        vertical-align: middle;\n",
       "    }\n",
       "\n",
       "    .dataframe tbody tr th {\n",
       "        vertical-align: top;\n",
       "    }\n",
       "\n",
       "    .dataframe thead th {\n",
       "        text-align: right;\n",
       "    }\n",
       "</style>\n",
       "<table border=\"1\" class=\"dataframe\">\n",
       "  <thead>\n",
       "    <tr style=\"text-align: right;\">\n",
       "      <th></th>\n",
       "      <th>driverStandingsId</th>\n",
       "      <th>raceId</th>\n",
       "      <th>driverId</th>\n",
       "      <th>points</th>\n",
       "      <th>position</th>\n",
       "      <th>positionText</th>\n",
       "      <th>wins</th>\n",
       "    </tr>\n",
       "  </thead>\n",
       "  <tbody>\n",
       "    <tr>\n",
       "      <th>0</th>\n",
       "      <td>1</td>\n",
       "      <td>18</td>\n",
       "      <td>1</td>\n",
       "      <td>10.0</td>\n",
       "      <td>1</td>\n",
       "      <td>1</td>\n",
       "      <td>1</td>\n",
       "    </tr>\n",
       "    <tr>\n",
       "      <th>1</th>\n",
       "      <td>2</td>\n",
       "      <td>18</td>\n",
       "      <td>2</td>\n",
       "      <td>8.0</td>\n",
       "      <td>2</td>\n",
       "      <td>2</td>\n",
       "      <td>0</td>\n",
       "    </tr>\n",
       "    <tr>\n",
       "      <th>2</th>\n",
       "      <td>3</td>\n",
       "      <td>18</td>\n",
       "      <td>3</td>\n",
       "      <td>6.0</td>\n",
       "      <td>3</td>\n",
       "      <td>3</td>\n",
       "      <td>0</td>\n",
       "    </tr>\n",
       "    <tr>\n",
       "      <th>3</th>\n",
       "      <td>4</td>\n",
       "      <td>18</td>\n",
       "      <td>4</td>\n",
       "      <td>5.0</td>\n",
       "      <td>4</td>\n",
       "      <td>4</td>\n",
       "      <td>0</td>\n",
       "    </tr>\n",
       "    <tr>\n",
       "      <th>4</th>\n",
       "      <td>5</td>\n",
       "      <td>18</td>\n",
       "      <td>5</td>\n",
       "      <td>4.0</td>\n",
       "      <td>5</td>\n",
       "      <td>5</td>\n",
       "      <td>0</td>\n",
       "    </tr>\n",
       "    <tr>\n",
       "      <th>...</th>\n",
       "      <td>...</td>\n",
       "      <td>...</td>\n",
       "      <td>...</td>\n",
       "      <td>...</td>\n",
       "      <td>...</td>\n",
       "      <td>...</td>\n",
       "      <td>...</td>\n",
       "    </tr>\n",
       "    <tr>\n",
       "      <th>34339</th>\n",
       "      <td>72513</td>\n",
       "      <td>1120</td>\n",
       "      <td>839</td>\n",
       "      <td>58.0</td>\n",
       "      <td>12</td>\n",
       "      <td>12</td>\n",
       "      <td>0</td>\n",
       "    </tr>\n",
       "    <tr>\n",
       "      <th>34340</th>\n",
       "      <td>72514</td>\n",
       "      <td>1120</td>\n",
       "      <td>844</td>\n",
       "      <td>206.0</td>\n",
       "      <td>5</td>\n",
       "      <td>5</td>\n",
       "      <td>0</td>\n",
       "    </tr>\n",
       "    <tr>\n",
       "      <th>34341</th>\n",
       "      <td>72515</td>\n",
       "      <td>1120</td>\n",
       "      <td>857</td>\n",
       "      <td>97.0</td>\n",
       "      <td>9</td>\n",
       "      <td>9</td>\n",
       "      <td>0</td>\n",
       "    </tr>\n",
       "    <tr>\n",
       "      <th>34342</th>\n",
       "      <td>72516</td>\n",
       "      <td>1120</td>\n",
       "      <td>817</td>\n",
       "      <td>6.0</td>\n",
       "      <td>17</td>\n",
       "      <td>17</td>\n",
       "      <td>0</td>\n",
       "    </tr>\n",
       "    <tr>\n",
       "      <th>34343</th>\n",
       "      <td>72517</td>\n",
       "      <td>1120</td>\n",
       "      <td>859</td>\n",
       "      <td>2.0</td>\n",
       "      <td>20</td>\n",
       "      <td>20</td>\n",
       "      <td>0</td>\n",
       "    </tr>\n",
       "  </tbody>\n",
       "</table>\n",
       "<p>34344 rows × 7 columns</p>\n",
       "</div>"
      ],
      "text/plain": [
       "       driverStandingsId  raceId  driverId  points  position positionText  \\\n",
       "0                      1      18         1    10.0         1            1   \n",
       "1                      2      18         2     8.0         2            2   \n",
       "2                      3      18         3     6.0         3            3   \n",
       "3                      4      18         4     5.0         4            4   \n",
       "4                      5      18         5     4.0         5            5   \n",
       "...                  ...     ...       ...     ...       ...          ...   \n",
       "34339              72513    1120       839    58.0        12           12   \n",
       "34340              72514    1120       844   206.0         5            5   \n",
       "34341              72515    1120       857    97.0         9            9   \n",
       "34342              72516    1120       817     6.0        17           17   \n",
       "34343              72517    1120       859     2.0        20           20   \n",
       "\n",
       "       wins  \n",
       "0         1  \n",
       "1         0  \n",
       "2         0  \n",
       "3         0  \n",
       "4         0  \n",
       "...     ...  \n",
       "34339     0  \n",
       "34340     0  \n",
       "34341     0  \n",
       "34342     0  \n",
       "34343     0  \n",
       "\n",
       "[34344 rows x 7 columns]"
      ]
     },
     "execution_count": 14,
     "metadata": {},
     "output_type": "execute_result"
    }
   ],
   "source": [
    "driver_standings_df"
   ]
  },
  {
   "cell_type": "markdown",
   "id": "81d51132-eb77-482a-853a-ab117fc579d6",
   "metadata": {},
   "source": [
    "## q3. top 3 drivers with more wins?"
   ]
  },
  {
   "cell_type": "markdown",
   "id": "06c9c236-57ac-4985-bd66-2d5ab08aa01c",
   "metadata": {},
   "source": [
    "### top winners by number of victories\n"
   ]
  },
  {
   "cell_type": "code",
   "execution_count": 216,
   "id": "291bdebf-b0d2-4f65-9ad6-275efd72b502",
   "metadata": {},
   "outputs": [
    {
     "data": {
      "text/html": [
       "<div>\n",
       "<style scoped>\n",
       "    .dataframe tbody tr th:only-of-type {\n",
       "        vertical-align: middle;\n",
       "    }\n",
       "\n",
       "    .dataframe tbody tr th {\n",
       "        vertical-align: top;\n",
       "    }\n",
       "\n",
       "    .dataframe thead th {\n",
       "        text-align: right;\n",
       "    }\n",
       "</style>\n",
       "<table border=\"1\" class=\"dataframe\">\n",
       "  <thead>\n",
       "    <tr style=\"text-align: right;\">\n",
       "      <th></th>\n",
       "      <th>wins</th>\n",
       "    </tr>\n",
       "    <tr>\n",
       "      <th>driverId</th>\n",
       "      <th></th>\n",
       "    </tr>\n",
       "  </thead>\n",
       "  <tbody>\n",
       "    <tr>\n",
       "      <th>1</th>\n",
       "      <td>1019</td>\n",
       "    </tr>\n",
       "    <tr>\n",
       "      <th>30</th>\n",
       "      <td>849</td>\n",
       "    </tr>\n",
       "    <tr>\n",
       "      <th>830</th>\n",
       "      <td>566</td>\n",
       "    </tr>\n",
       "  </tbody>\n",
       "</table>\n",
       "</div>"
      ],
      "text/plain": [
       "          wins\n",
       "driverId      \n",
       "1         1019\n",
       "30         849\n",
       "830        566"
      ]
     },
     "execution_count": 216,
     "metadata": {},
     "output_type": "execute_result"
    }
   ],
   "source": [
    "driver_wins = driver_standings_df.groupby('driverId')['wins'].sum()\n",
    "driver_wins = driver_wins.sort_values(ascending=False)\n",
    "\n",
    "driver_wins_df = pd.DataFrame(driver_wins.head(3))\n",
    "\n",
    "driver_wins_df"
   ]
  },
  {
   "cell_type": "markdown",
   "id": "7b6b0f06-e4b2-40f2-b18d-ac80b25fbb2f",
   "metadata": {},
   "source": [
    "### top winners by win rate"
   ]
  },
  {
   "cell_type": "code",
   "execution_count": 217,
   "id": "0286aefc-78d7-4daa-bbeb-9f0498e0d3b6",
   "metadata": {},
   "outputs": [
    {
     "data": {
      "text/html": [
       "<div>\n",
       "<style scoped>\n",
       "    .dataframe tbody tr th:only-of-type {\n",
       "        vertical-align: middle;\n",
       "    }\n",
       "\n",
       "    .dataframe tbody tr th {\n",
       "        vertical-align: top;\n",
       "    }\n",
       "\n",
       "    .dataframe thead th {\n",
       "        text-align: right;\n",
       "    }\n",
       "</style>\n",
       "<table border=\"1\" class=\"dataframe\">\n",
       "  <thead>\n",
       "    <tr style=\"text-align: right;\">\n",
       "      <th></th>\n",
       "      <th>wins</th>\n",
       "    </tr>\n",
       "    <tr>\n",
       "      <th>driverId</th>\n",
       "      <th></th>\n",
       "    </tr>\n",
       "  </thead>\n",
       "  <tbody>\n",
       "    <tr>\n",
       "      <th>1</th>\n",
       "      <td>3.069277</td>\n",
       "    </tr>\n",
       "    <tr>\n",
       "      <th>830</th>\n",
       "      <td>3.059459</td>\n",
       "    </tr>\n",
       "    <tr>\n",
       "      <th>30</th>\n",
       "      <td>2.712460</td>\n",
       "    </tr>\n",
       "  </tbody>\n",
       "</table>\n",
       "</div>"
      ],
      "text/plain": [
       "              wins\n",
       "driverId          \n",
       "1         3.069277\n",
       "830       3.059459\n",
       "30        2.712460"
      ]
     },
     "execution_count": 217,
     "metadata": {},
     "output_type": "execute_result"
    }
   ],
   "source": [
    "driver_wins = driver_standings_df.groupby('driverId')['wins'].mean()\n",
    "driver_wins = driver_wins.sort_values(ascending=False)\n",
    "\n",
    "driver_wins_df = pd.DataFrame(driver_wins.head(3))\n",
    "\n",
    "driver_wins_df"
   ]
  },
  {
   "cell_type": "code",
   "execution_count": 296,
   "id": "badc635a-3ed8-47d3-84dc-6d27396e7cca",
   "metadata": {},
   "outputs": [
    {
     "name": "stdout",
     "output_type": "stream",
     "text": [
      "  forename   surname  driverId\n",
      "0    Lewis  Hamilton         1\n",
      "    forename     surname  driverId\n",
      "829      Max  Verstappen       830\n",
      "   forename     surname  driverId\n",
      "29  Michael  Schumacher        30\n"
     ]
    }
   ],
   "source": [
    "# let's identify driverIds: using drivers.csv \n",
    "print(drivers_df.loc[drivers_df['driverId'] == 1, ['forename', 'surname', 'driverId']])\n",
    "print(drivers_df.loc[drivers_df['driverId'] == 830, ['forename', 'surname', 'driverId']])\n",
    "print(drivers_df.loc[drivers_df['driverId'] == 30, ['forename', 'surname', 'driverId']])"
   ]
  },
  {
   "cell_type": "code",
   "execution_count": 241,
   "id": "00ccc780-35dd-481f-a399-8fc3584594b4",
   "metadata": {},
   "outputs": [
    {
     "data": {
      "image/png": "[encoded data removed]",
      "text/plain": [
       "<Figure size 640x480 with 1 Axes>"
      ]
     },
     "metadata": {},
     "output_type": "display_data"
    }
   ],
   "source": [
    "driver_wins_df.plot.bar(legend=False)\n",
    "plt.title(\"Top 3 best winning rate\")\n",
    "plt.show()"
   ]
  },
  {
   "cell_type": "markdown",
   "id": "82833b24-2b6f-44ff-8731-8017091b85b3",
   "metadata": {},
   "source": [
    "## q4. top 10 country with more drivers"
   ]
  },
  {
   "cell_type": "code",
   "execution_count": 336,
   "id": "efe75a68-0917-414c-86aa-74c89a912896",
   "metadata": {},
   "outputs": [
    {
     "data": {
      "text/html": [
       "<div>\n",
       "<style scoped>\n",
       "    .dataframe tbody tr th:only-of-type {\n",
       "        vertical-align: middle;\n",
       "    }\n",
       "\n",
       "    .dataframe tbody tr th {\n",
       "        vertical-align: top;\n",
       "    }\n",
       "\n",
       "    .dataframe thead th {\n",
       "        text-align: right;\n",
       "    }\n",
       "</style>\n",
       "<table border=\"1\" class=\"dataframe\">\n",
       "  <thead>\n",
       "    <tr style=\"text-align: right;\">\n",
       "      <th></th>\n",
       "      <th>driverId</th>\n",
       "      <th>driverRef</th>\n",
       "      <th>number</th>\n",
       "      <th>code</th>\n",
       "      <th>forename</th>\n",
       "      <th>surname</th>\n",
       "      <th>dob</th>\n",
       "      <th>nationality</th>\n",
       "      <th>url</th>\n",
       "    </tr>\n",
       "  </thead>\n",
       "  <tbody>\n",
       "    <tr>\n",
       "      <th>0</th>\n",
       "      <td>1</td>\n",
       "      <td>hamilton</td>\n",
       "      <td>44</td>\n",
       "      <td>HAM</td>\n",
       "      <td>Lewis</td>\n",
       "      <td>Hamilton</td>\n",
       "      <td>1985-01-07</td>\n",
       "      <td>British</td>\n",
       "      <td>http://en.wikipedia.org/wiki/Lewis_Hamilton</td>\n",
       "    </tr>\n",
       "    <tr>\n",
       "      <th>1</th>\n",
       "      <td>2</td>\n",
       "      <td>heidfeld</td>\n",
       "      <td>\\N</td>\n",
       "      <td>HEI</td>\n",
       "      <td>Nick</td>\n",
       "      <td>Heidfeld</td>\n",
       "      <td>1977-05-10</td>\n",
       "      <td>German</td>\n",
       "      <td>http://en.wikipedia.org/wiki/Nick_Heidfeld</td>\n",
       "    </tr>\n",
       "    <tr>\n",
       "      <th>2</th>\n",
       "      <td>3</td>\n",
       "      <td>rosberg</td>\n",
       "      <td>6</td>\n",
       "      <td>ROS</td>\n",
       "      <td>Nico</td>\n",
       "      <td>Rosberg</td>\n",
       "      <td>1985-06-27</td>\n",
       "      <td>German</td>\n",
       "      <td>http://en.wikipedia.org/wiki/Nico_Rosberg</td>\n",
       "    </tr>\n",
       "    <tr>\n",
       "      <th>3</th>\n",
       "      <td>4</td>\n",
       "      <td>alonso</td>\n",
       "      <td>14</td>\n",
       "      <td>ALO</td>\n",
       "      <td>Fernando</td>\n",
       "      <td>Alonso</td>\n",
       "      <td>1981-07-29</td>\n",
       "      <td>Spanish</td>\n",
       "      <td>http://en.wikipedia.org/wiki/Fernando_Alonso</td>\n",
       "    </tr>\n",
       "    <tr>\n",
       "      <th>4</th>\n",
       "      <td>5</td>\n",
       "      <td>kovalainen</td>\n",
       "      <td>\\N</td>\n",
       "      <td>KOV</td>\n",
       "      <td>Heikki</td>\n",
       "      <td>Kovalainen</td>\n",
       "      <td>1981-10-19</td>\n",
       "      <td>Finnish</td>\n",
       "      <td>http://en.wikipedia.org/wiki/Heikki_Kovalainen</td>\n",
       "    </tr>\n",
       "    <tr>\n",
       "      <th>...</th>\n",
       "      <td>...</td>\n",
       "      <td>...</td>\n",
       "      <td>...</td>\n",
       "      <td>...</td>\n",
       "      <td>...</td>\n",
       "      <td>...</td>\n",
       "      <td>...</td>\n",
       "      <td>...</td>\n",
       "      <td>...</td>\n",
       "    </tr>\n",
       "    <tr>\n",
       "      <th>853</th>\n",
       "      <td>855</td>\n",
       "      <td>zhou</td>\n",
       "      <td>24</td>\n",
       "      <td>ZHO</td>\n",
       "      <td>Guanyu</td>\n",
       "      <td>Zhou</td>\n",
       "      <td>1999-05-30</td>\n",
       "      <td>Chinese</td>\n",
       "      <td>http://en.wikipedia.org/wiki/Zhou_Guanyu</td>\n",
       "    </tr>\n",
       "    <tr>\n",
       "      <th>854</th>\n",
       "      <td>856</td>\n",
       "      <td>de_vries</td>\n",
       "      <td>21</td>\n",
       "      <td>DEV</td>\n",
       "      <td>Nyck</td>\n",
       "      <td>de Vries</td>\n",
       "      <td>1995-02-06</td>\n",
       "      <td>Dutch</td>\n",
       "      <td>http://en.wikipedia.org/wiki/Nyck_de_Vries</td>\n",
       "    </tr>\n",
       "    <tr>\n",
       "      <th>855</th>\n",
       "      <td>857</td>\n",
       "      <td>piastri</td>\n",
       "      <td>81</td>\n",
       "      <td>PIA</td>\n",
       "      <td>Oscar</td>\n",
       "      <td>Piastri</td>\n",
       "      <td>2001-04-06</td>\n",
       "      <td>Australian</td>\n",
       "      <td>http://en.wikipedia.org/wiki/Oscar_Piastri</td>\n",
       "    </tr>\n",
       "    <tr>\n",
       "      <th>856</th>\n",
       "      <td>858</td>\n",
       "      <td>sargeant</td>\n",
       "      <td>2</td>\n",
       "      <td>SAR</td>\n",
       "      <td>Logan</td>\n",
       "      <td>Sargeant</td>\n",
       "      <td>2000-12-31</td>\n",
       "      <td>American</td>\n",
       "      <td>http://en.wikipedia.org/wiki/Logan_Sargeant</td>\n",
       "    </tr>\n",
       "    <tr>\n",
       "      <th>857</th>\n",
       "      <td>859</td>\n",
       "      <td>lawson</td>\n",
       "      <td>40</td>\n",
       "      <td>LAW</td>\n",
       "      <td>Liam</td>\n",
       "      <td>Lawson</td>\n",
       "      <td>2002-02-11</td>\n",
       "      <td>New Zealander</td>\n",
       "      <td>http://en.wikipedia.org/wiki/Liam_Lawson</td>\n",
       "    </tr>\n",
       "  </tbody>\n",
       "</table>\n",
       "<p>858 rows × 9 columns</p>\n",
       "</div>"
      ],
      "text/plain": [
       "     driverId   driverRef number code  forename     surname         dob  \\\n",
       "0           1    hamilton     44  HAM     Lewis    Hamilton  1985-01-07   \n",
       "1           2    heidfeld     \\N  HEI      Nick    Heidfeld  1977-05-10   \n",
       "2           3     rosberg      6  ROS      Nico     Rosberg  1985-06-27   \n",
       "3           4      alonso     14  ALO  Fernando      Alonso  1981-07-29   \n",
       "4           5  kovalainen     \\N  KOV    Heikki  Kovalainen  1981-10-19   \n",
       "..        ...         ...    ...  ...       ...         ...         ...   \n",
       "853       855        zhou     24  ZHO    Guanyu        Zhou  1999-05-30   \n",
       "854       856    de_vries     21  DEV      Nyck    de Vries  1995-02-06   \n",
       "855       857     piastri     81  PIA     Oscar     Piastri  2001-04-06   \n",
       "856       858    sargeant      2  SAR     Logan    Sargeant  2000-12-31   \n",
       "857       859      lawson     40  LAW      Liam      Lawson  2002-02-11   \n",
       "\n",
       "       nationality                                             url  \n",
       "0          British     http://en.wikipedia.org/wiki/Lewis_Hamilton  \n",
       "1           German      http://en.wikipedia.org/wiki/Nick_Heidfeld  \n",
       "2           German       http://en.wikipedia.org/wiki/Nico_Rosberg  \n",
       "3          Spanish    http://en.wikipedia.org/wiki/Fernando_Alonso  \n",
       "4          Finnish  http://en.wikipedia.org/wiki/Heikki_Kovalainen  \n",
       "..             ...                                             ...  \n",
       "853        Chinese        http://en.wikipedia.org/wiki/Zhou_Guanyu  \n",
       "854          Dutch      http://en.wikipedia.org/wiki/Nyck_de_Vries  \n",
       "855     Australian      http://en.wikipedia.org/wiki/Oscar_Piastri  \n",
       "856       American     http://en.wikipedia.org/wiki/Logan_Sargeant  \n",
       "857  New Zealander        http://en.wikipedia.org/wiki/Liam_Lawson  \n",
       "\n",
       "[858 rows x 9 columns]"
      ]
     },
     "execution_count": 336,
     "metadata": {},
     "output_type": "execute_result"
    }
   ],
   "source": [
    "drivers_df"
   ]
  },
  {
   "cell_type": "code",
   "execution_count": 240,
   "id": "a9e1b1fe-a7d5-48cf-a0cc-31cc3ef91949",
   "metadata": {},
   "outputs": [
    {
     "data": {
      "text/html": [
       "<div>\n",
       "<style scoped>\n",
       "    .dataframe tbody tr th:only-of-type {\n",
       "        vertical-align: middle;\n",
       "    }\n",
       "\n",
       "    .dataframe tbody tr th {\n",
       "        vertical-align: top;\n",
       "    }\n",
       "\n",
       "    .dataframe thead th {\n",
       "        text-align: right;\n",
       "    }\n",
       "</style>\n",
       "<table border=\"1\" class=\"dataframe\">\n",
       "  <thead>\n",
       "    <tr style=\"text-align: right;\">\n",
       "      <th></th>\n",
       "      <th>count</th>\n",
       "    </tr>\n",
       "    <tr>\n",
       "      <th>nationality</th>\n",
       "      <th></th>\n",
       "    </tr>\n",
       "  </thead>\n",
       "  <tbody>\n",
       "    <tr>\n",
       "      <th>British</th>\n",
       "      <td>165</td>\n",
       "    </tr>\n",
       "    <tr>\n",
       "      <th>American</th>\n",
       "      <td>158</td>\n",
       "    </tr>\n",
       "    <tr>\n",
       "      <th>Italian</th>\n",
       "      <td>99</td>\n",
       "    </tr>\n",
       "    <tr>\n",
       "      <th>French</th>\n",
       "      <td>73</td>\n",
       "    </tr>\n",
       "    <tr>\n",
       "      <th>German</th>\n",
       "      <td>50</td>\n",
       "    </tr>\n",
       "    <tr>\n",
       "      <th>Brazilian</th>\n",
       "      <td>32</td>\n",
       "    </tr>\n",
       "    <tr>\n",
       "      <th>Argentine</th>\n",
       "      <td>24</td>\n",
       "    </tr>\n",
       "    <tr>\n",
       "      <th>Belgian</th>\n",
       "      <td>23</td>\n",
       "    </tr>\n",
       "    <tr>\n",
       "      <th>Swiss</th>\n",
       "      <td>23</td>\n",
       "    </tr>\n",
       "    <tr>\n",
       "      <th>South African</th>\n",
       "      <td>23</td>\n",
       "    </tr>\n",
       "  </tbody>\n",
       "</table>\n",
       "</div>"
      ],
      "text/plain": [
       "               count\n",
       "nationality         \n",
       "British          165\n",
       "American         158\n",
       "Italian           99\n",
       "French            73\n",
       "German            50\n",
       "Brazilian         32\n",
       "Argentine         24\n",
       "Belgian           23\n",
       "Swiss             23\n",
       "South African     23"
      ]
     },
     "execution_count": 240,
     "metadata": {},
     "output_type": "execute_result"
    }
   ],
   "source": [
    "driver_per_country = drivers_df[\"nationality\"].value_counts().head(10)\n",
    "\n",
    "driver_per_country_df = pd.DataFrame(driver_per_country)\n",
    "\n",
    "driver_per_country_df"
   ]
  },
  {
   "cell_type": "code",
   "execution_count": 322,
   "id": "2b2ae7e3-3bb5-434c-8130-2a31b1025f17",
   "metadata": {},
   "outputs": [
    {
     "data": {
      "image/png": "[encoded data removed]",
      "text/plain": [
       "<Figure size 500x500 with 1 Axes>"
      ]
     },
     "metadata": {},
     "output_type": "display_data"
    }
   ],
   "source": [
    "driver_per_country_df.plot.pie(subplots=True, legend=False, figsize=(5, 5))\n",
    "plt.title(\"Top 10 countries with more drivers\")\n",
    "plt.show()"
   ]
  },
  {
   "cell_type": "markdown",
   "id": "305cffd5-2b47-41a0-9d1e-e9d540fe44c8",
   "metadata": {},
   "source": [
    "## q5. top 3 fastest drivers?"
   ]
  },
  {
   "cell_type": "code",
   "execution_count": 265,
   "id": "8ee05d56-4186-47a6-bf85-aad54da86e9b",
   "metadata": {},
   "outputs": [
    {
     "data": {
      "text/html": [
       "<div>\n",
       "<style scoped>\n",
       "    .dataframe tbody tr th:only-of-type {\n",
       "        vertical-align: middle;\n",
       "    }\n",
       "\n",
       "    .dataframe tbody tr th {\n",
       "        vertical-align: top;\n",
       "    }\n",
       "\n",
       "    .dataframe thead th {\n",
       "        text-align: right;\n",
       "    }\n",
       "</style>\n",
       "<table border=\"1\" class=\"dataframe\">\n",
       "  <thead>\n",
       "    <tr style=\"text-align: right;\">\n",
       "      <th></th>\n",
       "      <th>raceId</th>\n",
       "      <th>driverId</th>\n",
       "      <th>lap</th>\n",
       "      <th>position</th>\n",
       "      <th>time</th>\n",
       "      <th>milliseconds</th>\n",
       "    </tr>\n",
       "  </thead>\n",
       "  <tbody>\n",
       "    <tr>\n",
       "      <th>0</th>\n",
       "      <td>841</td>\n",
       "      <td>20</td>\n",
       "      <td>1</td>\n",
       "      <td>1</td>\n",
       "      <td>1:38.109</td>\n",
       "      <td>98109</td>\n",
       "    </tr>\n",
       "    <tr>\n",
       "      <th>1</th>\n",
       "      <td>841</td>\n",
       "      <td>20</td>\n",
       "      <td>2</td>\n",
       "      <td>1</td>\n",
       "      <td>1:33.006</td>\n",
       "      <td>93006</td>\n",
       "    </tr>\n",
       "    <tr>\n",
       "      <th>2</th>\n",
       "      <td>841</td>\n",
       "      <td>20</td>\n",
       "      <td>3</td>\n",
       "      <td>1</td>\n",
       "      <td>1:32.713</td>\n",
       "      <td>92713</td>\n",
       "    </tr>\n",
       "    <tr>\n",
       "      <th>3</th>\n",
       "      <td>841</td>\n",
       "      <td>20</td>\n",
       "      <td>4</td>\n",
       "      <td>1</td>\n",
       "      <td>1:32.803</td>\n",
       "      <td>92803</td>\n",
       "    </tr>\n",
       "    <tr>\n",
       "      <th>4</th>\n",
       "      <td>841</td>\n",
       "      <td>20</td>\n",
       "      <td>5</td>\n",
       "      <td>1</td>\n",
       "      <td>1:32.342</td>\n",
       "      <td>92342</td>\n",
       "    </tr>\n",
       "    <tr>\n",
       "      <th>...</th>\n",
       "      <td>...</td>\n",
       "      <td>...</td>\n",
       "      <td>...</td>\n",
       "      <td>...</td>\n",
       "      <td>...</td>\n",
       "      <td>...</td>\n",
       "    </tr>\n",
       "    <tr>\n",
       "      <th>562502</th>\n",
       "      <td>1120</td>\n",
       "      <td>858</td>\n",
       "      <td>54</td>\n",
       "      <td>18</td>\n",
       "      <td>1:28.923</td>\n",
       "      <td>88923</td>\n",
       "    </tr>\n",
       "    <tr>\n",
       "      <th>562503</th>\n",
       "      <td>1120</td>\n",
       "      <td>858</td>\n",
       "      <td>55</td>\n",
       "      <td>18</td>\n",
       "      <td>1:29.025</td>\n",
       "      <td>89025</td>\n",
       "    </tr>\n",
       "    <tr>\n",
       "      <th>562504</th>\n",
       "      <td>1120</td>\n",
       "      <td>858</td>\n",
       "      <td>56</td>\n",
       "      <td>18</td>\n",
       "      <td>1:29.430</td>\n",
       "      <td>89430</td>\n",
       "    </tr>\n",
       "    <tr>\n",
       "      <th>562505</th>\n",
       "      <td>1120</td>\n",
       "      <td>858</td>\n",
       "      <td>57</td>\n",
       "      <td>17</td>\n",
       "      <td>1:29.265</td>\n",
       "      <td>89265</td>\n",
       "    </tr>\n",
       "    <tr>\n",
       "      <th>562506</th>\n",
       "      <td>1120</td>\n",
       "      <td>858</td>\n",
       "      <td>58</td>\n",
       "      <td>16</td>\n",
       "      <td>1:29.379</td>\n",
       "      <td>89379</td>\n",
       "    </tr>\n",
       "  </tbody>\n",
       "</table>\n",
       "<p>562507 rows × 6 columns</p>\n",
       "</div>"
      ],
      "text/plain": [
       "        raceId  driverId  lap  position      time  milliseconds\n",
       "0          841        20    1         1  1:38.109         98109\n",
       "1          841        20    2         1  1:33.006         93006\n",
       "2          841        20    3         1  1:32.713         92713\n",
       "3          841        20    4         1  1:32.803         92803\n",
       "4          841        20    5         1  1:32.342         92342\n",
       "...        ...       ...  ...       ...       ...           ...\n",
       "562502    1120       858   54        18  1:28.923         88923\n",
       "562503    1120       858   55        18  1:29.025         89025\n",
       "562504    1120       858   56        18  1:29.430         89430\n",
       "562505    1120       858   57        17  1:29.265         89265\n",
       "562506    1120       858   58        16  1:29.379         89379\n",
       "\n",
       "[562507 rows x 6 columns]"
      ]
     },
     "execution_count": 265,
     "metadata": {},
     "output_type": "execute_result"
    }
   ],
   "source": [
    "lap_times_df"
   ]
  },
  {
   "cell_type": "code",
   "execution_count": 326,
   "id": "487b27b5-ad8f-4707-b777-b1e6b2a912c9",
   "metadata": {},
   "outputs": [],
   "source": [
    "# Calculate the average lap time for each driver\n",
    "average_lap_times = lap_times_df.groupby('driverId')['milliseconds'].mean()\n",
    "\n",
    "# Sort the drivers based on their average lap times\n",
    "sorted_drivers = average_lap_times.sort_values()\n",
    "\n",
    "three_fastest_drivers = sorted_drivers.head(3)"
   ]
  },
  {
   "cell_type": "code",
   "execution_count": 325,
   "id": "12cd9d0a-5b97-4ec7-9cf3-f46176b72a7e",
   "metadata": {},
   "outputs": [
    {
     "data": {
      "text/html": [
       "<div>\n",
       "<style scoped>\n",
       "    .dataframe tbody tr th:only-of-type {\n",
       "        vertical-align: middle;\n",
       "    }\n",
       "\n",
       "    .dataframe tbody tr th {\n",
       "        vertical-align: top;\n",
       "    }\n",
       "\n",
       "    .dataframe thead th {\n",
       "        text-align: right;\n",
       "    }\n",
       "</style>\n",
       "<table border=\"1\" class=\"dataframe\">\n",
       "  <thead>\n",
       "    <tr style=\"text-align: right;\">\n",
       "      <th></th>\n",
       "      <th>milliseconds</th>\n",
       "    </tr>\n",
       "    <tr>\n",
       "      <th>driverId</th>\n",
       "      <th></th>\n",
       "    </tr>\n",
       "  </thead>\n",
       "  <tbody>\n",
       "    <tr>\n",
       "      <th>851</th>\n",
       "      <td>63319.402299</td>\n",
       "    </tr>\n",
       "    <tr>\n",
       "      <th>850</th>\n",
       "      <td>80792.571429</td>\n",
       "    </tr>\n",
       "    <tr>\n",
       "      <th>72</th>\n",
       "      <td>82907.903226</td>\n",
       "    </tr>\n",
       "  </tbody>\n",
       "</table>\n",
       "</div>"
      ],
      "text/plain": [
       "          milliseconds\n",
       "driverId              \n",
       "851       63319.402299\n",
       "850       80792.571429\n",
       "72        82907.903226"
      ]
     },
     "execution_count": 325,
     "metadata": {},
     "output_type": "execute_result"
    }
   ],
   "source": [
    "three_fastest_drivers_df = pd.DataFrame(three_fastest_drivers)\n",
    "\n",
    "three_fastest_drivers_df"
   ]
  },
  {
   "cell_type": "code",
   "execution_count": 327,
   "id": "dd5b8cae-3d4a-47d6-8ce3-222f2e71a6bf",
   "metadata": {},
   "outputs": [
    {
     "name": "stdout",
     "output_type": "stream",
     "text": [
      "    forename surname  driverId\n",
      "849     Jack  Aitken       851\n",
      "    forename     surname  driverId\n",
      "848   Pietro  Fittipaldi       850\n",
      "    forename   surname  driverId\n",
      "71  Stéphane  Sarrazin        72\n"
     ]
    }
   ],
   "source": [
    "# Identifying the drivers\n",
    "print(drivers_df.loc[drivers_df['driverId'] == 851, ['forename', 'surname', 'driverId']])\n",
    "print(drivers_df.loc[drivers_df['driverId'] == 850, ['forename', 'surname', 'driverId']])\n",
    "print(drivers_df.loc[drivers_df['driverId'] == 72, ['forename', 'surname', 'driverId']])"
   ]
  },
  {
   "cell_type": "code",
   "execution_count": 320,
   "id": "3d3b96dd-cc89-431e-98da-5ced744cecc8",
   "metadata": {},
   "outputs": [
    {
     "data": {
      "image/png": "[encoded data removed]",
      "text/plain": [
       "<Figure size 500x500 with 1 Axes>"
      ]
     },
     "metadata": {},
     "output_type": "display_data"
    }
   ],
   "source": [
    "three_fastest_drivers.plot.pie(subplots=True, legend=False, figsize=(5, 5))\n",
    "plt.title(\"top 3 fastest drivers\")\n",
    "plt.show()"
   ]
  },
  {
   "cell_type": "code",
   "execution_count": 343,
   "id": "d63ce843-7d78-4669-b6a3-dee6e41dc3a4",
   "metadata": {},
   "outputs": [
    {
     "data": {
      "text/plain": [
       "'milliseconds\\n63319.402298850575\\n80792.57142857143\\n82907.90322580645\\n'"
      ]
     },
     "execution_count": 343,
     "metadata": {},
     "output_type": "execute_result"
    }
   ],
   "source": [
    "# load the result frames into a csv\n",
    "# ex: df.to_csv(index=False)\n",
    "\n",
    "top7_countries_df.to_csv(index=False)\n",
    "driver_wins_df.to_csv(index=False)\n",
    "driver_per_country_df.to_csv(index=False)\n",
    "three_fastest_drivers_df.to_csv(index=False)"
   ]
  },
  {
   "cell_type": "markdown",
   "id": "2c2dadaf-2013-42ec-8ef1-e02590c20382",
   "metadata": {},
   "source": [
    "## loading into a sql database"
   ]
  },
  {
   "cell_type": "code",
   "execution_count": 347,
   "id": "0d272e23-2797-488d-adfa-23d6b09dbafd",
   "metadata": {},
   "outputs": [],
   "source": [
    "conn = sqlite3.connect(\"database.db\")"
   ]
  },
  {
   "cell_type": "code",
   "execution_count": 348,
   "id": "bb1a0ec4-e102-4ee1-adcb-0ea4173e1551",
   "metadata": {},
   "outputs": [
    {
     "data": {
      "text/plain": [
       "7"
      ]
     },
     "execution_count": 348,
     "metadata": {},
     "output_type": "execute_result"
    }
   ],
   "source": [
    "# then load them into a sql db or snowflake\n",
    "top7_countries_df.to_sql(\"top7_countries\", conn)"
   ]
  },
  {
   "cell_type": "code",
   "execution_count": 351,
   "id": "a57a13b3-c74d-45a6-b793-b4300b6e4fa0",
   "metadata": {},
   "outputs": [
    {
     "data": {
      "text/plain": [
       "3"
      ]
     },
     "execution_count": 351,
     "metadata": {},
     "output_type": "execute_result"
    }
   ],
   "source": [
    "driver_wins_df.to_sql(\"top3_winning_drivers\", conn)"
   ]
  },
  {
   "cell_type": "code",
   "execution_count": 352,
   "id": "d96a59cf-b163-4086-bc48-2db8071d9828",
   "metadata": {},
   "outputs": [
    {
     "data": {
      "text/plain": [
       "10"
      ]
     },
     "execution_count": 352,
     "metadata": {},
     "output_type": "execute_result"
    }
   ],
   "source": [
    "driver_per_country_df.to_sql(\"top10_countries_with_drivers\", conn)"
   ]
  },
  {
   "cell_type": "code",
   "execution_count": 353,
   "id": "e0a9b625-a3ca-4b1f-93a1-b1f461492812",
   "metadata": {},
   "outputs": [
    {
     "data": {
      "text/plain": [
       "3"
      ]
     },
     "execution_count": 353,
     "metadata": {},
     "output_type": "execute_result"
    }
   ],
   "source": [
    "three_fastest_drivers_df.to_sql(\"top3_fastest_drivers\", conn)"
   ]
  },
  {
   "cell_type": "markdown",
   "id": "07b1b697-43d6-4b69-9668-c991f6549975",
   "metadata": {},
   "source": [
    "# querying from sql"
   ]
  },
  {
   "cell_type": "code",
   "execution_count": null,
   "id": "7dc80149-d541-4459-a1a5-c90bdc71b84e",
   "metadata": {},
   "outputs": [],
   "source": [
    "driver_wins_df.to"
   ]
  },
  {
   "cell_type": "code",
   "execution_count": 350,
   "id": "77110dd5-cb52-490c-aed0-cab068ddcecd",
   "metadata": {},
   "outputs": [
    {
     "data": {
      "text/html": [
       "<div>\n",
       "<style scoped>\n",
       "    .dataframe tbody tr th:only-of-type {\n",
       "        vertical-align: middle;\n",
       "    }\n",
       "\n",
       "    .dataframe tbody tr th {\n",
       "        vertical-align: top;\n",
       "    }\n",
       "\n",
       "    .dataframe thead th {\n",
       "        text-align: right;\n",
       "    }\n",
       "</style>\n",
       "<table border=\"1\" class=\"dataframe\">\n",
       "  <thead>\n",
       "    <tr style=\"text-align: right;\">\n",
       "      <th></th>\n",
       "      <th>country</th>\n",
       "      <th>count</th>\n",
       "    </tr>\n",
       "  </thead>\n",
       "  <tbody>\n",
       "    <tr>\n",
       "      <th>0</th>\n",
       "      <td>USA</td>\n",
       "      <td>11</td>\n",
       "    </tr>\n",
       "    <tr>\n",
       "      <th>1</th>\n",
       "      <td>France</td>\n",
       "      <td>7</td>\n",
       "    </tr>\n",
       "    <tr>\n",
       "      <th>2</th>\n",
       "      <td>Spain</td>\n",
       "      <td>6</td>\n",
       "    </tr>\n",
       "    <tr>\n",
       "      <th>3</th>\n",
       "      <td>Portugal</td>\n",
       "      <td>4</td>\n",
       "    </tr>\n",
       "    <tr>\n",
       "      <th>4</th>\n",
       "      <td>UK</td>\n",
       "      <td>4</td>\n",
       "    </tr>\n",
       "  </tbody>\n",
       "</table>\n",
       "</div>"
      ],
      "text/plain": [
       "    country  count\n",
       "0       USA     11\n",
       "1    France      7\n",
       "2     Spain      6\n",
       "3  Portugal      4\n",
       "4        UK      4"
      ]
     },
     "execution_count": 350,
     "metadata": {},
     "output_type": "execute_result"
    }
   ],
   "source": [
    "df1 = pd.read_sql_query(\"SELECT * FROM top7_countries\", conn)\n",
    "\n",
    "df1.head()"
   ]
  },
  {
   "cell_type": "code",
   "execution_count": 355,
   "id": "bf4c13c0-7697-4a4e-8e3c-970654fa565d",
   "metadata": {},
   "outputs": [
    {
     "data": {
      "text/html": [
       "<div>\n",
       "<style scoped>\n",
       "    .dataframe tbody tr th:only-of-type {\n",
       "        vertical-align: middle;\n",
       "    }\n",
       "\n",
       "    .dataframe tbody tr th {\n",
       "        vertical-align: top;\n",
       "    }\n",
       "\n",
       "    .dataframe thead th {\n",
       "        text-align: right;\n",
       "    }\n",
       "</style>\n",
       "<table border=\"1\" class=\"dataframe\">\n",
       "  <thead>\n",
       "    <tr style=\"text-align: right;\">\n",
       "      <th></th>\n",
       "      <th>driverId</th>\n",
       "      <th>wins</th>\n",
       "    </tr>\n",
       "  </thead>\n",
       "  <tbody>\n",
       "    <tr>\n",
       "      <th>0</th>\n",
       "      <td>1</td>\n",
       "      <td>3.069277</td>\n",
       "    </tr>\n",
       "    <tr>\n",
       "      <th>1</th>\n",
       "      <td>830</td>\n",
       "      <td>3.059459</td>\n",
       "    </tr>\n",
       "    <tr>\n",
       "      <th>2</th>\n",
       "      <td>30</td>\n",
       "      <td>2.712460</td>\n",
       "    </tr>\n",
       "  </tbody>\n",
       "</table>\n",
       "</div>"
      ],
      "text/plain": [
       "   driverId      wins\n",
       "0         1  3.069277\n",
       "1       830  3.059459\n",
       "2        30  2.712460"
      ]
     },
     "execution_count": 355,
     "metadata": {},
     "output_type": "execute_result"
    }
   ],
   "source": [
    "df2 = pd.read_sql_query(\"SELECT * FROM top3_winning_drivers\", conn)\n",
    "\n",
    "df2.head()"
   ]
  },
  {
   "cell_type": "code",
   "execution_count": 359,
   "id": "9b136087-8f4e-43f2-a5cd-3b86b5284157",
   "metadata": {},
   "outputs": [
    {
     "data": {
      "text/html": [
       "<div>\n",
       "<style scoped>\n",
       "    .dataframe tbody tr th:only-of-type {\n",
       "        vertical-align: middle;\n",
       "    }\n",
       "\n",
       "    .dataframe tbody tr th {\n",
       "        vertical-align: top;\n",
       "    }\n",
       "\n",
       "    .dataframe thead th {\n",
       "        text-align: right;\n",
       "    }\n",
       "</style>\n",
       "<table border=\"1\" class=\"dataframe\">\n",
       "  <thead>\n",
       "    <tr style=\"text-align: right;\">\n",
       "      <th></th>\n",
       "      <th>nationality</th>\n",
       "      <th>count</th>\n",
       "    </tr>\n",
       "  </thead>\n",
       "  <tbody>\n",
       "    <tr>\n",
       "      <th>0</th>\n",
       "      <td>British</td>\n",
       "      <td>165</td>\n",
       "    </tr>\n",
       "    <tr>\n",
       "      <th>1</th>\n",
       "      <td>American</td>\n",
       "      <td>158</td>\n",
       "    </tr>\n",
       "    <tr>\n",
       "      <th>2</th>\n",
       "      <td>Italian</td>\n",
       "      <td>99</td>\n",
       "    </tr>\n",
       "    <tr>\n",
       "      <th>3</th>\n",
       "      <td>French</td>\n",
       "      <td>73</td>\n",
       "    </tr>\n",
       "    <tr>\n",
       "      <th>4</th>\n",
       "      <td>German</td>\n",
       "      <td>50</td>\n",
       "    </tr>\n",
       "  </tbody>\n",
       "</table>\n",
       "</div>"
      ],
      "text/plain": [
       "  nationality  count\n",
       "0     British    165\n",
       "1    American    158\n",
       "2     Italian     99\n",
       "3      French     73\n",
       "4      German     50"
      ]
     },
     "execution_count": 359,
     "metadata": {},
     "output_type": "execute_result"
    }
   ],
   "source": [
    "df3 = pd.read_sql_query(\"SELECT * FROM top10_countries_with_drivers\", conn)\n",
    "\n",
    "df3.head()"
   ]
  },
  {
   "cell_type": "code",
   "execution_count": 360,
   "id": "13c0ddd7-161e-4aca-86fe-2c37330c796c",
   "metadata": {},
   "outputs": [
    {
     "data": {
      "text/html": [
       "<div>\n",
       "<style scoped>\n",
       "    .dataframe tbody tr th:only-of-type {\n",
       "        vertical-align: middle;\n",
       "    }\n",
       "\n",
       "    .dataframe tbody tr th {\n",
       "        vertical-align: top;\n",
       "    }\n",
       "\n",
       "    .dataframe thead th {\n",
       "        text-align: right;\n",
       "    }\n",
       "</style>\n",
       "<table border=\"1\" class=\"dataframe\">\n",
       "  <thead>\n",
       "    <tr style=\"text-align: right;\">\n",
       "      <th></th>\n",
       "      <th>driverId</th>\n",
       "      <th>wins</th>\n",
       "    </tr>\n",
       "  </thead>\n",
       "  <tbody>\n",
       "    <tr>\n",
       "      <th>0</th>\n",
       "      <td>1</td>\n",
       "      <td>3.069277</td>\n",
       "    </tr>\n",
       "    <tr>\n",
       "      <th>1</th>\n",
       "      <td>830</td>\n",
       "      <td>3.059459</td>\n",
       "    </tr>\n",
       "    <tr>\n",
       "      <th>2</th>\n",
       "      <td>30</td>\n",
       "      <td>2.712460</td>\n",
       "    </tr>\n",
       "  </tbody>\n",
       "</table>\n",
       "</div>"
      ],
      "text/plain": [
       "   driverId      wins\n",
       "0         1  3.069277\n",
       "1       830  3.059459\n",
       "2        30  2.712460"
      ]
     },
     "execution_count": 360,
     "metadata": {},
     "output_type": "execute_result"
    }
   ],
   "source": [
    "df4 = pd.read_sql_query(\"SELECT * FROM top3_winning_drivers\", conn)\n",
    "\n",
    "df4.head()"
   ]
  }
 ],
 "metadata": {
  "kernelspec": {
   "display_name": "Python 3 (ipykernel)",
   "language": "python",
   "name": "python3"
  },
  "language_info": {
   "codemirror_mode": {
    "name": "ipython",
    "version": 3
   },
   "file_extension": ".py",
   "mimetype": "text/x-python",
   "name": "python",
   "nbconvert_exporter": "python",
   "pygments_lexer": "ipython3",
   "version": "3.11.6"
  }
 },
 "nbformat": 4,
 "nbformat_minor": 5
}
